{
 "cells": [
  {
   "cell_type": "markdown",
   "metadata": {},
   "source": [
    "<center>\n",
    "    <img src=\"https://cf-courses-data.s3.us.cloud-object-storage.appdomain.cloud/IBMDeveloperSkillsNetwork-DS0105EN-SkillsNetwork/labs/Module2/images/SN_web_lightmode.png\" width=\"300\" alt=\"cognitiveclass.ai logo\">\n",
    "</center>\n"
   ]
  },
  {
   "cell_type": "markdown",
   "metadata": {},
   "source": [
    "#### Add your code below following the instructions given in the course\n"
   ]
  },
  {
   "cell_type": "markdown",
   "metadata": {},
   "source": [
    "# Peer-graded Assignment in IBM's Tool for Data Science"
   ]
  },
  {
   "cell_type": "markdown",
   "metadata": {},
   "source": [
    "### Good day! This is my submission for the Final Assignment: Create and Share Your Jupyter Notebook.\n",
    "#### This cell serves as the markdown cell for an introduction as stipulated in [Exercise 3]."
   ]
  },
  {
   "cell_type": "markdown",
   "metadata": {},
   "source": [
    "#### List of Data Science Languages [Exercise 4]\n",
    "- Python\n",
    "- R\n",
    "- SQL\n",
    "- Scala\n",
    "- Java\n",
    "- C++\n",
    "- Julia\n",
    "- JavaScript\n",
    "- PHP\n",
    "- Go\n",
    "- Ruby\n",
    "- Visual Basic"
   ]
  },
  {
   "cell_type": "markdown",
   "metadata": {},
   "source": [
    "#### List of Data Science Tools [Exercise 5]\n",
    "##### 1. Open-source Data Management Tools\n",
    "- MySQL\n",
    "- PostgreSQL\n",
    "- MongoDB\n",
    "- Apache CouchDB\n",
    "- Apache Cassandra\n",
    "- Hadoop File System\n",
    "- Ceph\n",
    "##### 2. Open-source Data Integration and Transformation Tools\n",
    "- Apache AirFlow\n",
    "- KubeFlow\n",
    "- Apache Kafka\n",
    "- Apache Nifi\n",
    "- Apache SparkSQL\n",
    "- NodeRED\n",
    "##### 3. Data Visualization Tools\n",
    "- Pixie Dust\n",
    "- Hue\n",
    "- Kibana\n",
    "- Apache Superset \n",
    "##### 4. Model Tools for Building, Deployment, Monitoring, and Assessment\n",
    "- Apache PredictionIO\n",
    "- Seldon\n",
    "- MLeap\n",
    "- TensorFlow\n",
    "- ModelDB\n",
    "- Prometheus\n",
    "- IBM AI Fairness 360 open-source toolkit\n",
    "- IBM Adversarial Robustness 360 Toolbox\n",
    "- IBM AI Explainability 360 toolkit \n",
    "##### 5. Code and Data Asset Management\n",
    "- Git\n",
    "- GitHub\n",
    "- GitLab\n",
    "- Bitbucket\n",
    "- Apache Atlas\n",
    "- ODPi Egeria\n",
    "- Kylo"
   ]
  },
  {
   "cell_type": "markdown",
   "metadata": {},
   "source": [
    "#### Table of Data Science Tools [Exercise 6]\r\n",
    "\r\n",
    "| Tool             | Category          | Description                                                                              |\r\n",
    "|------------------|-------------------|------------------------------------------------------------------------------------------|\r\n",
    "| Python           | Programming       | A high-level programming language widely used for data analysis, machine learning, and more. |\r\n",
    "| R                | Programming       | A language and environment for statistical computing and graphics.                        |\r\n",
    "| Jupyter Notebook | IDE               | An open-source web application for creating and sharing documents with live code, equations, visualizations, and narrative text. |\r\n",
    "| Apache Spark     | Big Data          | An open-source unified analytics engine for large-scale data processing.                  |\r\n",
    "| Tableau          | Visualization     | A powerful, user-friendly data visualization tool.                                        |\r\n",
    "| TensorFlow       | Machine Learning  | An open-source library for numerical computation and machine learning.                    |\r\n",
    "| Hadoop           | Big Data          | A framework for distributed storage and processing of large data sets using the MapReduce programming model. |\r\n",
    "| SQL              | Database          | A domain-specific language used in programming and designed for managing data held in a relational database management system. |\r\n",
    "| SAS              | Statistical       | A software suite used for advanced analytics, business intelligence, and data management. |\r\n",
    "| Power BI         | Visualization     | A business analytics service by Microsoft with interactive visualizations and business intelligence capabilities. |\r\n"
   ]
  },
  {
   "cell_type": "markdown",
   "metadata": {},
   "source": [
    "#### Arithmetic Expression Examples [Exercise 7]\n",
    "\n",
    "1. **Addition:** Adding two numbers together.\n",
    "   - Example: `2 + 3 = 5`\n",
    "\n",
    "2. **Subtraction:** Finding the difference between two numbers.\n",
    "   - Example: `7 - 4 = 3`\n",
    "\n",
    "3. **Multiplication:** Multiplying two numbers.\n",
    "   - Example: `5 * 6 = 30`\n",
    "\n",
    "4. **Division:** Dividing one number by another.\n",
    "   - Example: `10 / 2 = 5`\n",
    "\n",
    "5. **Parentheses:** Changing the order of operations using parentheses.\n",
    "   - Example: `(4 + 3) * 2 = 14`\n",
    "\n",
    "6. **Exponents:** Raising a number to a power.\n",
    "   - Example: `2^3 = 8`\n"
   ]
  },
  {
   "cell_type": "markdown",
   "metadata": {},
   "source": [
    "#### Multiply and Add Numbers [Exercise 8]"
   ]
  },
  {
   "cell_type": "code",
   "execution_count": 1,
   "metadata": {},
   "outputs": [
    {
     "name": "stdout",
     "output_type": "stream",
     "text": [
      "Multiplication result: 35\n",
      "Addition result: 12\n"
     ]
    }
   ],
   "source": [
    "num1 = 5\n",
    "num2 = 7\n",
    "multiply = num1 * num2\n",
    "add = num1 + num2\n",
    "print(\"Multiplication result:\", multiply)\n",
    "print(\"Addition result:\", add)"
   ]
  },
  {
   "cell_type": "markdown",
   "metadata": {},
   "source": [
    "#### Convert Minutes to Hours [Exercise 9] "
   ]
  },
  {
   "cell_type": "code",
   "execution_count": 2,
   "metadata": {},
   "outputs": [
    {
     "name": "stdout",
     "output_type": "stream",
     "text": [
      "135 minutes is equal to 2.25 hours\n"
     ]
    }
   ],
   "source": [
    "minutes = 135\n",
    "hours = minutes / 60\n",
    "print(minutes, \"minutes is equal to\", hours, \"hours\")\n"
   ]
  },
  {
   "cell_type": "markdown",
   "metadata": {},
   "source": [
    "#### List of Objectives [Exercise 10]\n",
    "\n",
    "1. Module 1: Overview of Data Science Tool Learning Objectives\n",
    "- Describe the components of a Data Scientist's toolkit and list various tool categories\n",
    "- List examples of Open Source, Commercial, and Cloud-based tools in various categories\n",
    "\n",
    "2. Module 2: Languages of Data Science Learning Objectives\n",
    "- Identify the criteria and roles for determining the language to learn.\n",
    "- Identify the users and benefits of Python.\n",
    "- Identify the users and uses of the R language.\n",
    "- Define SQL elements and list their benefits.\n",
    "- Review languages such as Java, Scala, C++, JavaScript, and Julia.\n",
    "- List the global communities for connecting with other users.\n",
    "\n",
    "3. Module 3: Packages, APIs, Data Sets and Models Learning Objectives\n",
    "- List examples of the various libraries: scientific, visualization, machine learning, and deep learning.\n",
    "- Define REST API to request and respond.\n",
    "- Describe data sets and sources of data.\n",
    "- Explore open data sets on the Data Asset eXchange.\n",
    "- Describe how to use a learning model to solve a problem.\n",
    "- List the tasks that a data scientist needs to perform to build a model.\n",
    "- Explore ML models in the Model Learning eXchange.\n",
    "\n",
    "4. Module 4: Jupyter Notebooks and JupyterLab Learning Objectives\n",
    "- Describe how to use the notebooks in JupyterLab.\n",
    "- Describe how to work in a notebook session.\n",
    "- Describe the basic Jupyter architecture.\n",
    "- Describe how to work with kernels.\n",
    "- Identify tools in Anaconda Jupyter environments.\n",
    "- Describe cloud-based Jupyter environments and their data science features.\n",
    "\n",
    "5. Module 5: RStudio and GitHub Learning Objectives\n",
    "- Describe R capabilities and RStudio environment.\n",
    "- Use the inbuilt R plot function.\n",
    "- Explain version control and describe the Git and GitHub environment.\n",
    "- Describe the purpose of source repositories and explain how GitHub satisfies the needs of a source repository.\n",
    "- Create a GitHub account and a project repository.\n",
    "- Demonstrate how to edit and upload files in GitHub.\n",
    "- Explain the purpose of branches and how to merge changes.\n",
    "\n",
    "6. Module 6: Final Project and Assessment Learning Objectives\n",
    "- Create a Jupyter Notebook with markdown and code cells\n",
    "- List examples of languages, libraries and tools used in Data Science\n",
    "- Share your Jupyter Notebook publicly on GitHub\n",
    "- Evaluate notebooks submitted by your peers using the provided rubric\n",
    "- Demonstrate proficiency in Data Science toolkit knowledge"
   ]
  },
  {
   "cell_type": "markdown",
   "metadata": {},
   "source": [
    "### AUTHOR: KRIS LASTRA"
   ]
  },
  {
   "cell_type": "code",
   "execution_count": null,
   "metadata": {},
   "outputs": [],
   "source": []
  }
 ],
 "metadata": {
  "kernelspec": {
   "display_name": "Python 3 (ipykernel)",
   "language": "python",
   "name": "python3"
  },
  "language_info": {
   "codemirror_mode": {
    "name": "ipython",
    "version": 3
   },
   "file_extension": ".py",
   "mimetype": "text/x-python",
   "name": "python",
   "nbconvert_exporter": "python",
   "pygments_lexer": "ipython3",
   "version": "3.12.3"
  }
 },
 "nbformat": 4,
 "nbformat_minor": 4
}
